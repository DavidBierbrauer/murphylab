{
 "cells": [
  {
   "cell_type": "markdown",
   "metadata": {},
   "source": [
    "# Get information about water consume of the mice\n",
    "I used that for daily monitoring of the water consume of the mice. No real magic about it. We get the basic count of waterdrops for the night (or whatever time we adjust the query to) and with the second request we also get under which condition they got the water. This helps to see if they get drink while headfixed (because they just drink entry rewards or at no fix trials) or cannot reach the spout or freeze. When the \"pass\" condition appears it indicates that they drink after the RFID sensor lost track and is probably not at the best position. That is especially useful for early phases where we have to change the position of the RFID reader a few times while spout training. If you run the query now you will get nothing back, because it uses (Date(NOW()) but feel free to put whatever date into it that you want. e.g.\n",
    "\n",
    "Date(\"2018-12-05\")"
   ]
  },
  {
   "cell_type": "code",
   "execution_count": 3,
   "metadata": {},
   "outputs": [
    {
     "name": "stdout",
     "output_type": "stream",
     "text": [
      "Empty DataFrame\n",
      "Columns: [Date, Mouse, condition, Waterdrops]\n",
      "Index: []\n",
      "          Date      Mouse  Waterdrops\n",
      "0   2018-12-03  801010205          99\n",
      "1   2018-12-03  801010219          71\n",
      "2   2018-12-04  801010205          66\n",
      "3   2018-12-04  801010219         164\n",
      "4   2018-12-05  801010205          49\n",
      "5   2018-12-05  801010219          53\n",
      "6   2018-12-05  801010270          52\n",
      "7   2018-12-06  801010205          67\n",
      "8   2018-12-06  801010219          99\n",
      "9   2018-12-06  801010270         101\n",
      "10  2018-12-07  801010219          88\n",
      "11  2018-12-07  801010270          51\n",
      "12  2018-12-08  801010219          14\n",
      "13  2018-12-09  801010219          65\n",
      "14  2018-12-09  801010270          73\n",
      "15  2018-12-10  801010219          67\n",
      "16  2018-12-10  801010270          48\n",
      "17  2018-12-11  801010219         128\n",
      "18  2018-12-11  801010270          74\n",
      "19  2018-12-12  801010219         112\n",
      "20  2018-12-13  801010219          95\n",
      "21  2018-12-13  801010270         105\n",
      "22  2018-12-14  801010219          64\n",
      "23  2018-12-14  801010270          48\n",
      "24  2018-12-15  801010219         107\n",
      "25  2018-12-16  801010219         105\n",
      "26  2018-12-17  801010219          93\n",
      "27  2018-12-18  801010219         104\n",
      "28  2018-12-19  801010219         125\n",
      "29  2018-12-20  801010219          78\n"
     ]
    }
   ],
   "source": [
    "import pandas as pd\n",
    "import pymysql\n",
    "from password import database_password as DBpwd\n",
    "from password import database_user as DBuser\n",
    "from password import database_host as DBhost\n",
    "from password import database as DB\n",
    "\n",
    "def generate_commands(condition):\n",
    "    if condition == \"no\":\n",
    "        query = \"\"\"SELECT Date(`Timestamp`),`Mouse`, COUNT(*) FROM `rewards` WHERE `Timestamp` >= (Date(\"2018-12-05\") - 2) \n",
    "                    Group BY Date(`Timestamp`),`Mouse`\"\"\"\n",
    "    elif condition == \"yes\":\n",
    "        query = \"\"\"SELECT Date(`Timestamp`),`Mouse`,`Reward_type`, COUNT(*) FROM `rewards` WHERE `Timestamp` >= (Date(NOW()) - INTERVAL 8 HOUR)  \n",
    "                            Group BY Date(`Timestamp`),`Mouse`,`Reward_type`\"\"\"\n",
    "    return query\n",
    "\n",
    "def getFromDatabase(query):\n",
    "    db2 = pymysql.connect(host=DBhost, user=DBuser, db=DB, password=DBpwd)\n",
    "    cur2 = db2.cursor()\n",
    "    try:\n",
    "        cur2.execute(query)\n",
    "        rows = cur2.fetchall()\n",
    "    except pymysql.Error as e:\n",
    "        try:\n",
    "            print(\"MySQL Error [%d]: %s\" % (e.args[0], e.args[1]))\n",
    "            return None\n",
    "        except IndexError:\n",
    "            print(\"MySQL Error: %s\" % str(e))\n",
    "            return None\n",
    "    except TypeError as e:\n",
    "        print(\"MySQL Error: TypeError: %s\" % str(e))\n",
    "        return None\n",
    "    except ValueError as e:\n",
    "        print(\"MySQL Error: ValueError: %s\" % str(e))\n",
    "        return None\n",
    "    db2.close()\n",
    "    return rows\n",
    "\n",
    "\n",
    "\n",
    "data = list(getFromDatabase(query = generate_commands(\"yes\")))\n",
    "df = pd.DataFrame(data=data,columns=[\"Date\",\"Mouse\",\"condition\",\"Waterdrops\"])\n",
    "print(df)\n",
    "df.to_csv(\"water+.csv\")\n",
    "data = list(getFromDatabase(query = generate_commands(\"no\")))\n",
    "df = pd.DataFrame(data=data,columns=[\"Date\",\"Mouse\",\"Waterdrops\"])\n",
    "print(df)\n",
    "df.to_csv(\"water-.csv\")"
   ]
  }
 ],
 "metadata": {
  "kernelspec": {
   "display_name": "Python 3",
   "language": "python",
   "name": "python3"
  },
  "language_info": {
   "codemirror_mode": {
    "name": "ipython",
    "version": 3
   },
   "file_extension": ".py",
   "mimetype": "text/x-python",
   "name": "python",
   "nbconvert_exporter": "python",
   "pygments_lexer": "ipython3",
   "version": "3.7.0"
  }
 },
 "nbformat": 4,
 "nbformat_minor": 2
}
