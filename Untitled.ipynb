{
 "cells": [
  {
   "cell_type": "markdown",
   "metadata": {},
   "source": [
    "#  This program stores the textfiles in the database\n",
    "Our cages save every event on a textfile, as an robust and exportable way. Though we also working on a direct database logger, this is currently the easiest way to go with. Mice are free to interact with the system as they want, which produces a lot of different outcomes. The analysis of this amount data is much easier done with a relational database. As first step we upload the raw event data with minimal preprocessing into the database for further anlysis\n",
    "#### we first import the needed libraries and initialize our database connection function"
   ]
  },
  {
   "cell_type": "code",
   "execution_count": null,
   "metadata": {},
   "outputs": [],
   "source": [
    "import pandas as pd\n",
    "import pymysql\n",
    "import glob\n",
    "import re\n",
    "from password import database_password as DBpwd\n",
    "from password import database_user as DBuser\n",
    "from password import database_host as DBhost\n",
    "from password import database as DB\n",
    "\n",
    "def saveToDatabase(query, values):\n",
    "    db1 = pymysql.connect(host=DBhost, user=DBuser, db=DB, password=DBpwd)\n",
    "    cur1 = db1.cursor()\n",
    "    try:\n",
    "        cur1.executemany(query, values)\n",
    "        db1.commit()\n",
    "    except pymysql.Error as e:\n",
    "        try:\n",
    "            print( \"MySQL Error [%d]: %s\" % (e.args[0], e.args[1]))\n",
    "            return None\n",
    "        except IndexError:\n",
    "            print( \"MySQL Error: %s\" % str(e))\n",
    "            return None\n",
    "    except TypeError as e:\n",
    "        print(\"MySQL Error: TypeError: %s\" % str(e))\n",
    "        return None\n",
    "    except ValueError as e:\n",
    "        print(\"MySQL Error: ValueError: %s\" % str(e))\n",
    "        return None\n",
    "    db1.close()"
   ]
  },
  {
   "cell_type": "code",
   "execution_count": null,
   "metadata": {},
   "outputs": [],
   "source": []
  }
 ],
 "metadata": {
  "kernelspec": {
   "display_name": "Python 3",
   "language": "python",
   "name": "python3"
  }
 },
 "nbformat": 4,
 "nbformat_minor": 2
}
